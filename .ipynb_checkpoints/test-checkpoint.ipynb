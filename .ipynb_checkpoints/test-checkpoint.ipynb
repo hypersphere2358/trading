{
 "cells": [
  {
   "cell_type": "code",
   "execution_count": 51,
   "id": "d3d15bb1-f11d-4f5f-b2f5-2b4b36bd82c7",
   "metadata": {},
   "outputs": [],
   "source": [
    "from hashlib import new\n",
    "from binance.client import Client\n",
    "\n",
    "import pandas as pd\n",
    "import numpy as np\n",
    "import matplotlib.pyplot as plt\n",
    "from matplotlib.animation import FuncAnimation\n",
    "import mplfinance as mpf\n",
    "import telegram\n",
    "import time\n",
    "import datetime\n",
    "import logging\n",
    "import sys\n",
    "\n"
   ]
  },
  {
   "cell_type": "code",
   "execution_count": 49,
   "id": "0e650747-e614-4abf-b224-6769ae57f816",
   "metadata": {},
   "outputs": [
    {
     "data": {
      "text/plain": [
       "datetime.datetime(2022, 7, 15, 0, 34, 32)"
      ]
     },
     "execution_count": 49,
     "metadata": {},
     "output_type": "execute_result"
    }
   ],
   "source": [
    "ts = 1657812872000\n",
    "datetime.datetime.fromtimestamp(int(ts/1000))"
   ]
  },
  {
   "cell_type": "code",
   "execution_count": 277,
   "id": "dfc3348a-6582-4700-bbda-de60fc905a60",
   "metadata": {},
   "outputs": [],
   "source": [
    "file = open(\"output010.txt\", \"r\")\n",
    "strings = file.readlines()\n",
    "outputs = [int(s.strip()) for s in strings]\n",
    "file.close()"
   ]
  },
  {
   "cell_type": "code",
   "execution_count": 278,
   "id": "bc4991d6-cb6c-4b28-93b0-4faa3013888c",
   "metadata": {},
   "outputs": [],
   "source": [
    "file = open(\"input010.txt\", \"r\")\n",
    "strings = file.readlines()\n",
    "strings = [s.strip() for s in strings]\n",
    "file.close()\n",
    "\n",
    "n = int(strings[0])\n",
    "q = int(strings[1])\n",
    "queryType = []\n",
    "students1 = []\n",
    "students2 = []\n",
    "index = 2\n",
    "for i in range(q):\n",
    "    queryType.append(strings[2+i])\n",
    "    students1.append(int(strings[2+i + 1 + q]))\n",
    "    students2.append(int(strings[2+i + 2 + q*2]))"
   ]
  },
  {
   "cell_type": "code",
   "execution_count": 288,
   "id": "aa94eea7-e498-40e0-8c7f-8bd1f549a4fd",
   "metadata": {},
   "outputs": [],
   "source": [
    "def solution(n, queryType, students1, students2):\n",
    "    p = list(range(n+1))\n",
    "    # print(p)\n",
    "    def find(x):\n",
    "        if x == p[x]:\n",
    "            return x\n",
    "        else:\n",
    "            return find(p[x])\n",
    "    \n",
    "    def union(x, y):\n",
    "        x = find(x)\n",
    "        y = find(y)\n",
    "        if x < y:\n",
    "            p[y] = x\n",
    "        else:\n",
    "            p[x] = y\n",
    "    \n",
    "    def size(x):\n",
    "        if x == p[x]:\n",
    "            return p.count(x)\n",
    "        else:\n",
    "            return p.count(x) + size(p[x])\n",
    "    \n",
    "    result = []\n",
    "    for i in range(len(queryType)):\n",
    "        s1 = students1[i] # 학생1 id\n",
    "        s2 = students2[i] # 학생2 id\n",
    "        # print()\n",
    "        if queryType[i] == 'Friend':\n",
    "            # print(queryType[i], s1,s2)\n",
    "            union(s1, s2)\n",
    "            # print(p)\n",
    "        else:\n",
    "            # print(queryType[i], s1,s2)\n",
    "            g1 = find(s1)\n",
    "            g2 = find(s2)\n",
    "            g1_size = p.count(g1)\n",
    "            g2_size = p.count(g2)\n",
    "            \n",
    "            # g1_size = size(s1)\n",
    "            # g2_size = size(s2)\n",
    "            \n",
    "            # print(f\"{s1} group size : {g1_size} / {s2} group size {g2_size}\")\n",
    "            result.append(g1_size + g2_size)\n",
    "    \n",
    "    \n",
    "        p_re = []\n",
    "        for x in range(n+1):\n",
    "            p_re.append(find(x))\n",
    "        p = p_re\n",
    "    # print(p)\n",
    "    return result\n",
    "    \n",
    "# n = 10\n",
    "# queryType = ['Friend', 'Friend', 'Friend','Friend', 'Friend', 'Total']\n",
    "# students1 = [1,2,4,5,3,1]\n",
    "# students2 = [2,3,5,6,4,7]\n",
    "result = solution(n, queryType, students1, students2)\n",
    "# result"
   ]
  },
  {
   "cell_type": "code",
   "execution_count": 223,
   "id": "fb4edc5a-3a68-448b-8e25-d2c66ab6db77",
   "metadata": {
    "tags": []
   },
   "outputs": [
    {
     "name": "stdout",
     "output_type": "stream",
     "text": [
      "10 10 10\n",
      "1 2 {1} {2} set()\n",
      "{1: {1, 2}, 2: {1, 2}, 3: {3}, 4: {4}, 5: {5}, 6: {6}, 7: {7}, 8: {8}, 9: {9}, 10: {10}}\n",
      "3 4 {3} {4} set()\n",
      "{1: {1, 2}, 2: {1, 2}, 3: {3, 4}, 4: {3, 4}, 5: {5}, 6: {6}, 7: {7}, 8: {8}, 9: {9}, 10: {10}}\n",
      "5 6 {5} {6} set()\n",
      "{1: {1, 2}, 2: {1, 2}, 3: {3, 4}, 4: {3, 4}, 5: {5, 6}, 6: {5, 6}, 7: {7}, 8: {8}, 9: {9}, 10: {10}}\n",
      "1 5 {1, 2} {5, 6} {2, 6}\n",
      "{1: {1, 2, 5, 6}, 2: {1, 2, 5, 6}, 3: {3, 4}, 4: {3, 4}, 5: {1, 2, 5, 6}, 6: {1, 2, 5, 6}, 7: {7}, 8: {8}, 9: {9}, 10: {10}}\n",
      "3 5 {3, 4} {1, 2, 5, 6} {1, 2, 4, 6}\n",
      "{1: {1, 2, 3, 4, 5, 6}, 2: {1, 2, 3, 4, 5, 6}, 3: {1, 2, 3, 4, 5, 6}, 4: {1, 2, 3, 4, 5, 6}, 5: {1, 2, 3, 4, 5, 6}, 6: {1, 2, 3, 4, 5, 6}, 7: {7}, 8: {8}, 9: {9}, 10: {10}}\n"
     ]
    }
   ],
   "source": [
    "def solution(n, queryType, students1, students2):\n",
    "    print(len(queryType), len(students1), len(students2))\n",
    "    students_dict = {}\n",
    "    for i in range(1, n+1):\n",
    "        students_dict[i] = set([i]) # 모든 학생들의 그룹멤버 초기화. 자기자신.\n",
    "    \n",
    "    result = []\n",
    "    for i in range(len(queryType)):\n",
    "        s1 = students1[i] # 학생1 id\n",
    "        s2 = students2[i] # 학생2 id\n",
    "        \n",
    "        s1_group = students_dict[s1]\n",
    "        s2_group = students_dict[s2]\n",
    "        \n",
    "        # print(queryType[i])\n",
    "        if queryType[i] == 'Friend':\n",
    "            total = s1_group | s2_group\n",
    "            total_ex = s1_group | s2_group\n",
    "            total_ex.remove(s1)\n",
    "            total_ex.remove(s2)\n",
    "            print(s1, s2, s1_group, s2_group, total_ex)\n",
    "            \n",
    "            students_dict[s1] = total\n",
    "            students_dict[s2] = total\n",
    "            for s in total_ex:\n",
    "                students_dict[s] = total\n",
    "            print(students_dict)\n",
    "        else:\n",
    "            \n",
    "#             s1_total = set()\n",
    "#             for s in s1_group:\n",
    "#                 s1_total = s1_total | students_dict[s]\n",
    "            \n",
    "#             s2_total = set()\n",
    "#             for s in s2_group:\n",
    "#                 s2_total = s2_total | students_dict[s]\n",
    "            \n",
    "            re = len(s1_group) + len(s2_group)\n",
    "            result.append(re)\n",
    "            if i in [944]:\n",
    "                print(re)\n",
    "            \n",
    "        #     print(s1,s2, total, s1_total, s2_total)\n",
    "        if i in [944]:\n",
    "            print(queryType[i])\n",
    "            print(i, s1, s2, s1_group, s2_group, re)\n",
    "            print(students_dict)\n",
    "        # print()\n",
    "    \n",
    "    # print()\n",
    "    # print(\"최종\")\n",
    "    # print(students_dict)\n",
    "    return result\n",
    "\n",
    "n = 10\n",
    "queryType = ['Friend', 'Total', 'Friend', 'Total', 'Friend', 'Total', 'Friend', 'Total', 'Friend', 'Total']\n",
    "students1 = [1,1,3,1,5,1,1,1,3,1]\n",
    "students2 = [2,2,4,3,6,3,5,5,5,5]\n",
    "result = solution(n, queryType, students1, students2)"
   ]
  },
  {
   "cell_type": "code",
   "execution_count": 297,
   "id": "5dbb7b1f-41b1-465d-82b9-4d1a6289b819",
   "metadata": {},
   "outputs": [
    {
     "name": "stdout",
     "output_type": "stream",
     "text": [
      "944 122 61\n"
     ]
    }
   ],
   "source": [
    "for i in range(len(outputs)):\n",
    "    if result[i] != outputs[i]:\n",
    "        print(i, result[i], outputs[i])"
   ]
  },
  {
   "cell_type": "code",
   "execution_count": 89,
   "id": "f4a23725-751e-471a-9c32-912f6cc0a91a",
   "metadata": {},
   "outputs": [
    {
     "data": {
      "text/plain": [
       "'123'"
      ]
     },
     "execution_count": 89,
     "metadata": {},
     "output_type": "execute_result"
    }
   ],
   "source": [
    "def solution(ingredients, startIndex, target):\n",
    "    ingredients_n = len(ingredients)\n",
    "    left_index = startIndex\n",
    "    right_index = startIndex\n",
    "    step = 1\n",
    "    \n",
    "    for i in range(ingredients_n):\n",
    "        if ingredients[left_index] == target or ingredients[right_index] == target:\n",
    "            break\n",
    "        \n",
    "        left_index -= step\n",
    "        right_index += step\n",
    "        \n",
    "        left_index %= ingredients_n\n",
    "        right_index %= ingredients_n\n",
    "    \n",
    "    return i"
   ]
  },
  {
   "cell_type": "code",
   "execution_count": 93,
   "id": "2ced8a85-99cf-43a2-b709-127267f92a12",
   "metadata": {},
   "outputs": [
    {
     "data": {
      "text/plain": [
       "'0101'"
      ]
     },
     "execution_count": 93,
     "metadata": {},
     "output_type": "execute_result"
    }
   ],
   "source": [
    "def solution(s):\n",
    "    max_string = s.count('1') * '1' + s.count('0') * '0'\n",
    "    answer = \"\"\n",
    "    for i in range(len(max_string)):\n",
    "        max_string = max_string[::-1]\n",
    "        answer += max_string[-1]\n",
    "        max_string = max_string[:-1]\n",
    "    answer = answer[::-1]\n",
    "    return answer\n",
    "\n",
    "solution('1100')"
   ]
  },
  {
   "cell_type": "code",
   "execution_count": 64,
   "id": "d216fe03-abdb-400e-93d0-10c4c2d7abe5",
   "metadata": {},
   "outputs": [],
   "source": [
    "df = pd.read_csv('ratio_result.csv', index_col=0)\n",
    "df['datetime'] = df['timestamp'].apply(lambda x: datetime.datetime.fromtimestamp(int(x/1000)))\n",
    "df['index'] = df.index\n",
    "df['index'] = df['index'].apply(lambda x: x // 4)\n",
    "df = df[['index', 'datetime', 'vehicle_symbol', 'base_quote', 'secondary_quote', 'ratio', 'timestamp']]\n",
    "df.to_csv('ratio_result_mod.csv', index=False)"
   ]
  },
  {
   "cell_type": "code",
   "execution_count": 12,
   "id": "cae15308-ab8a-40a8-bad3-658ee5514bd8",
   "metadata": {},
   "outputs": [
    {
     "data": {
      "text/html": [
       "<div>\n",
       "<style scoped>\n",
       "    .dataframe tbody tr th:only-of-type {\n",
       "        vertical-align: middle;\n",
       "    }\n",
       "\n",
       "    .dataframe tbody tr th {\n",
       "        vertical-align: top;\n",
       "    }\n",
       "\n",
       "    .dataframe thead th {\n",
       "        text-align: right;\n",
       "    }\n",
       "</style>\n",
       "<table border=\"1\" class=\"dataframe\">\n",
       "  <thead>\n",
       "    <tr style=\"text-align: right;\">\n",
       "      <th></th>\n",
       "      <th>a</th>\n",
       "      <th>b</th>\n",
       "      <th>c</th>\n",
       "    </tr>\n",
       "    <tr>\n",
       "      <th>c</th>\n",
       "      <th></th>\n",
       "      <th></th>\n",
       "      <th></th>\n",
       "    </tr>\n",
       "  </thead>\n",
       "  <tbody>\n",
       "    <tr>\n",
       "      <th>A</th>\n",
       "      <td>1</td>\n",
       "      <td>3</td>\n",
       "      <td>A</td>\n",
       "    </tr>\n",
       "    <tr>\n",
       "      <th>B</th>\n",
       "      <td>2</td>\n",
       "      <td>4</td>\n",
       "      <td>B</td>\n",
       "    </tr>\n",
       "    <tr>\n",
       "      <th>C</th>\n",
       "      <td>3</td>\n",
       "      <td>5</td>\n",
       "      <td>C</td>\n",
       "    </tr>\n",
       "    <tr>\n",
       "      <th>D</th>\n",
       "      <td>4</td>\n",
       "      <td>6</td>\n",
       "      <td>D</td>\n",
       "    </tr>\n",
       "  </tbody>\n",
       "</table>\n",
       "</div>"
      ],
      "text/plain": [
       "   a  b  c\n",
       "c         \n",
       "A  1  3  A\n",
       "B  2  4  B\n",
       "C  3  5  C\n",
       "D  4  6  D"
      ]
     },
     "execution_count": 12,
     "metadata": {},
     "output_type": "execute_result"
    }
   ],
   "source": [
    "df = pd.DataFrame()\n",
    "df['a'] = [1,2,3,4]\n",
    "df['b'] = [3,4,5,6]\n",
    "df['c'] = ['A',\"B\",\"C\",\"D\"]\n",
    "df.set_index('c',drop=False)\n",
    "\n",
    "# df.to_dict('index')"
   ]
  },
  {
   "cell_type": "code",
   "execution_count": 35,
   "id": "ea25d05d-5f5c-485d-b4f9-7fb704832a72",
   "metadata": {},
   "outputs": [
    {
     "data": {
      "text/plain": [
       "{'lastUpdateId': 20148882710,\n",
       " 'bids': [['20646.02000000', '1.59221000'],\n",
       "  ['20645.84000000', '0.00510000'],\n",
       "  ['20645.46000000', '0.00150000'],\n",
       "  ['20644.68000000', '0.01106000'],\n",
       "  ['20643.44000000', '0.00060000'],\n",
       "  ['20643.11000000', '0.28000000'],\n",
       "  ['20642.90000000', '0.00096000'],\n",
       "  ['20642.89000000', '1.07456000'],\n",
       "  ['20642.56000000', '0.05200000'],\n",
       "  ['20642.55000000', '0.36767000']],\n",
       " 'asks': [['20646.03000000', '0.12411000'],\n",
       "  ['20648.13000000', '0.08761000'],\n",
       "  ['20649.73000000', '0.01000000'],\n",
       "  ['20650.05000000', '0.11388000'],\n",
       "  ['20650.06000000', '0.24221000'],\n",
       "  ['20650.16000000', '0.10000000'],\n",
       "  ['20650.35000000', '0.10000000'],\n",
       "  ['20650.92000000', '0.01000000'],\n",
       "  ['20651.12000000', '0.09548000'],\n",
       "  ['20651.32000000', '0.09548000']]}"
      ]
     },
     "execution_count": 35,
     "metadata": {},
     "output_type": "execute_result"
    }
   ],
   "source": [
    "bn = myBinance(API_KEY, SECRET_KEY)\n",
    "bn.get_order_book(symbol='BTCUSDT', limit=10)"
   ]
  },
  {
   "cell_type": "code",
   "execution_count": 4,
   "id": "cf2f4fdf-14e0-4fe4-b6f7-1a17639fad2d",
   "metadata": {},
   "outputs": [],
   "source": [
    "def slope_sign(s):\n",
    "    if s > 0:\n",
    "        return 1\n",
    "    elif s < 0:\n",
    "        return -1\n",
    "    else:\n",
    "        return 0\n",
    "\n",
    "\n",
    "def strategy_signal_ma_cross(v1, v2, slope_check_n):\n",
    "    ######################################################################\n",
    "    # 크로스 여부 체크 로직.\n",
    "    signal = [0]\n",
    "    for i in range(len(v1)):\n",
    "        if i == 0:\n",
    "            continue\n",
    "        \n",
    "        # 현재 값이나 예전 값이 같은 경우. 무효\n",
    "        if (v1[i] == v2[i]) or (v1[i-1] == v2[i-1]):\n",
    "            signal.append(0)\n",
    "            continue\n",
    "\n",
    "        # v1 값이 v2 값을 하향돌파 하는 경우. 데드크로스.\n",
    "        if (v1[i-1] > v2[i-1]) and (v1[i] < v2[i]):\n",
    "            signal.append(-1)\n",
    "        # v1 값이 v2 값을 상향돌파 하는 경우. 골든크로스.\n",
    "        elif (v1[i-1] < v2[i-1]) and (v1[i] > v2[i]):\n",
    "            signal.append(1)\n",
    "        # 그 외의 경우 무효.\n",
    "        else:\n",
    "            signal.append(0)\n",
    "    \n",
    "    ######################################################################\n",
    "    # 기울기 체크 로직. dataframe으로 계산 시 속도 느릴 수 있음. 추후 개선 필요.\n",
    "    df = pd.DataFrame()\n",
    "    df['v1'] = v1\n",
    "    df['v2'] = v2\n",
    "    df['signal_cross'] = signal\n",
    "    df['v1_diff'] = df['v1'].diff(1).fillna(0)\n",
    "    df['v2_diff'] = df['v2'].diff(1).fillna(0)\n",
    "\n",
    "    all_check = []\n",
    "    for r_df in df[['v1_diff', 'v2_diff']].rolling(slope_check_n):\n",
    "        if r_df.shape[0] < slope_check_n:\n",
    "            all_check.append(0)\n",
    "            continue\n",
    "        if np.all(r_df > 0):\n",
    "            all_check.append(1)\n",
    "        elif np.all(r_df < 0):\n",
    "            all_check.append(-1)\n",
    "        else:\n",
    "            all_check.append(0)\n",
    "    df['signal_all_slope'] = all_check\n",
    "    df['signal_total'] = df['signal_cross'] * (df['signal_cross'] * df['signal_all_slope'])\n",
    "    \n",
    "    return df"
   ]
  },
  {
   "cell_type": "code",
   "execution_count": 20,
   "id": "0beabfd9-4c85-4d39-8545-aafc52e498d3",
   "metadata": {},
   "outputs": [
    {
     "data": {
      "text/html": [
       "<div>\n",
       "<style scoped>\n",
       "    .dataframe tbody tr th:only-of-type {\n",
       "        vertical-align: middle;\n",
       "    }\n",
       "\n",
       "    .dataframe tbody tr th {\n",
       "        vertical-align: top;\n",
       "    }\n",
       "\n",
       "    .dataframe thead th {\n",
       "        text-align: right;\n",
       "    }\n",
       "</style>\n",
       "<table border=\"1\" class=\"dataframe\">\n",
       "  <thead>\n",
       "    <tr style=\"text-align: right;\">\n",
       "      <th></th>\n",
       "      <th>a</th>\n",
       "      <th>b</th>\n",
       "    </tr>\n",
       "  </thead>\n",
       "  <tbody>\n",
       "    <tr>\n",
       "      <th>0</th>\n",
       "      <td>1</td>\n",
       "      <td>4</td>\n",
       "    </tr>\n",
       "    <tr>\n",
       "      <th>1</th>\n",
       "      <td>2</td>\n",
       "      <td>2</td>\n",
       "    </tr>\n",
       "    <tr>\n",
       "      <th>2</th>\n",
       "      <td>1</td>\n",
       "      <td>1</td>\n",
       "    </tr>\n",
       "    <tr>\n",
       "      <th>3</th>\n",
       "      <td>2</td>\n",
       "      <td>2</td>\n",
       "    </tr>\n",
       "    <tr>\n",
       "      <th>4</th>\n",
       "      <td>4</td>\n",
       "      <td>4</td>\n",
       "    </tr>\n",
       "    <tr>\n",
       "      <th>5</th>\n",
       "      <td>11</td>\n",
       "      <td>6</td>\n",
       "    </tr>\n",
       "    <tr>\n",
       "      <th>6</th>\n",
       "      <td>9</td>\n",
       "      <td>5</td>\n",
       "    </tr>\n",
       "    <tr>\n",
       "      <th>7</th>\n",
       "      <td>5</td>\n",
       "      <td>4</td>\n",
       "    </tr>\n",
       "    <tr>\n",
       "      <th>8</th>\n",
       "      <td>1</td>\n",
       "      <td>3</td>\n",
       "    </tr>\n",
       "    <tr>\n",
       "      <th>9</th>\n",
       "      <td>6</td>\n",
       "      <td>8</td>\n",
       "    </tr>\n",
       "    <tr>\n",
       "      <th>10</th>\n",
       "      <td>7</td>\n",
       "      <td>1</td>\n",
       "    </tr>\n",
       "    <tr>\n",
       "      <th>11</th>\n",
       "      <td>100</td>\n",
       "      <td>200</td>\n",
       "    </tr>\n",
       "  </tbody>\n",
       "</table>\n",
       "</div>"
      ],
      "text/plain": [
       "      a    b\n",
       "0     1    4\n",
       "1     2    2\n",
       "2     1    1\n",
       "3     2    2\n",
       "4     4    4\n",
       "5    11    6\n",
       "6     9    5\n",
       "7     5    4\n",
       "8     1    3\n",
       "9     6    8\n",
       "10    7    1\n",
       "11  100  200"
      ]
     },
     "execution_count": 20,
     "metadata": {},
     "output_type": "execute_result"
    }
   ],
   "source": [
    "test_df = pd.DataFrame()\n",
    "test_df['a'] = [1,2,1,2,4,11,9,5,1,6,7]\n",
    "test_df['b'] = [4,2,1,2,4,6,5,4,3,8,1]\n",
    "# strategy_signal_ma_cross(test_df['a'].tolist(), test_df['b'].tolist(), 3)\n",
    "# test_df.append({'a':100, 'b':200}, ignore_index=True)\n",
    "dic = {'a':100, 'b':200}\n",
    "\n",
    "pd.concat([test_df, pd.DataFrame(dic, index=[0])], ignore_index=True)\n",
    "# pd.DataFrame(dic, index=[0])"
   ]
  },
  {
   "cell_type": "code",
   "execution_count": 40,
   "id": "e26c3b2b-cbe2-4a96-a3ef-22ff991b61b2",
   "metadata": {},
   "outputs": [
    {
     "data": {
      "text/plain": [
       "5.31"
      ]
     },
     "execution_count": 40,
     "metadata": {},
     "output_type": "execute_result"
    }
   ],
   "source": [
    "a = [1,2,3]\n",
    "a[-1] = 4\n",
    "a\n",
    "\n",
    "# logging.warning(f\"\\n{test_df}\")\n",
    "\n",
    "tele_bot = telegram.Bot(TELEGRAM_BOT_TOKEN)\n",
    "tele_bot.sendMessage(chat_id=TELEGRAM_CHAT_ID, text=\"    > 포지션 <b>진입</b> 완료.\", parse_mode=telegram.ParseMode.HTML)\n",
    "\n",
    "round(5.3123123, 2)"
   ]
  },
  {
   "cell_type": "code",
   "execution_count": 49,
   "id": "a60e8139-0084-4f89-b9b9-5fe92907e81d",
   "metadata": {},
   "outputs": [
    {
     "name": "stdout",
     "output_type": "stream",
     "text": [
      "a\n",
      "a\n",
      "a\n",
      "a\n",
      "a\n",
      "a\n",
      "a\n",
      "a\n",
      "a\n",
      "a\n"
     ]
    }
   ],
   "source": [
    "for i in range(10):\n",
    "    try:\n",
    "        a = 1/0\n",
    "    except Exception as e:    # 모든 예외의 에러 메시지를 출력할 때는 Exception을 사용\n",
    "        print(\"a\")\n",
    "        continue\n",
    "        print(e)"
   ]
  },
  {
   "cell_type": "code",
   "execution_count": 38,
   "id": "a3fe9e54-bb46-4dac-8209-4168455ac862",
   "metadata": {},
   "outputs": [
    {
     "ename": "NameError",
     "evalue": "name 'client' is not defined",
     "output_type": "error",
     "traceback": [
      "\u001b[0;31m---------------------------------------------------------------------------\u001b[0m",
      "\u001b[0;31mNameError\u001b[0m                                 Traceback (most recent call last)",
      "Input \u001b[0;32mIn [38]\u001b[0m, in \u001b[0;36m<cell line: 1>\u001b[0;34m()\u001b[0m\n\u001b[0;32m----> 1\u001b[0m \u001b[43mclient\u001b[49m\u001b[38;5;241m.\u001b[39mget_order_book(symbol\u001b[38;5;241m=\u001b[39m\u001b[38;5;124m'\u001b[39m\u001b[38;5;124mBNBBTC\u001b[39m\u001b[38;5;124m'\u001b[39m)\n",
      "\u001b[0;31mNameError\u001b[0m: name 'client' is not defined"
     ]
    }
   ],
   "source": [
    "client.get_order_book(symbol='BNBBTC')"
   ]
  }
 ],
 "metadata": {
  "kernelspec": {
   "display_name": "Python 3 (ipykernel)",
   "language": "python",
   "name": "python3"
  },
  "language_info": {
   "codemirror_mode": {
    "name": "ipython",
    "version": 3
   },
   "file_extension": ".py",
   "mimetype": "text/x-python",
   "name": "python",
   "nbconvert_exporter": "python",
   "pygments_lexer": "ipython3",
   "version": "3.10.4"
  }
 },
 "nbformat": 4,
 "nbformat_minor": 5
}
